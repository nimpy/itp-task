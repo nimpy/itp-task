{
 "cells": [
  {
   "cell_type": "code",
   "execution_count": 1,
   "id": "statistical-terry",
   "metadata": {},
   "outputs": [],
   "source": [
    "import pickle\n",
    "import os\n",
    "\n",
    "import numpy as np\n",
    "import pandas as pd\n",
    "import matplotlib.pyplot as plt"
   ]
  },
  {
   "cell_type": "code",
   "execution_count": 2,
   "id": "distinct-thread",
   "metadata": {},
   "outputs": [],
   "source": [
    "data_dir = 'data/'\n",
    "\n",
    "train_filename = 'train_v2_set_top_5.pkl'\n",
    "test_filename = 'test_v2_set_top_5.pkl'"
   ]
  },
  {
   "cell_type": "code",
   "execution_count": 3,
   "id": "sufficient-injury",
   "metadata": {},
   "outputs": [],
   "source": [
    "train_filepath = os.path.join(data_dir, train_filename)\n",
    "test_filepath = os.path.join(data_dir, test_filename)"
   ]
  },
  {
   "cell_type": "code",
   "execution_count": 4,
   "id": "static-malawi",
   "metadata": {},
   "outputs": [],
   "source": [
    "def print_some_data_samples(filepath):\n",
    "    with open(filepath, 'rb') as f:\n",
    "        data = pickle.load(f)\n",
    "        for i in range(10):\n",
    "            print(data[i])"
   ]
  },
  {
   "cell_type": "code",
   "execution_count": 5,
   "id": "rapid-species",
   "metadata": {
    "scrolled": true
   },
   "outputs": [
    {
     "name": "stdout",
     "output_type": "stream",
     "text": [
      "{'id': 7842, 'cuisine': 'chinese', 'ingredients': 'molasses ginger garlic cloves sesame oil rice vinegar steak jalapeno chilies navel oranges corn starch low sodium soy sauce red pepper flakes scallions canola oil'}\n",
      "{'id': 10981, 'cuisine': 'italian', 'ingredients': 'pesto ground black pepper salt rocket leaves white wine cannellini beans crumbled goat cheese andouille chicken sausage penne pasta grape tomatoes olive oil garlic'}\n",
      "{'id': 42353, 'cuisine': 'mexican', 'ingredients': 'green bell pepper light mayonnaise sour cream water green chilies onions cheddar cheese lean ground beef biscuit mix roma tomatoes taco seasoning'}\n",
      "{'id': 21992, 'cuisine': 'chinese', 'ingredients': 'pepper dry sherry peanut oil tomatoes sesame seeds maple syrup boneless skinless chicken breast halves red leaf lettuce salt chinese five-spice powder soy sauce fresh ginger root all-purpose flour'}\n",
      "{'id': 8554, 'cuisine': 'italian', 'ingredients': 'white vinegar vegetable oil italian seasoning feta cheese freshly ground pepper red cabbage garlic cloves water salt'}\n",
      "{'id': 13056, 'cuisine': 'italian', 'ingredients': 'olive oil red wine arborio rice shallots garlic artichok heart marin asiago chicken broth butter lamb'}\n",
      "{'id': 36750, 'cuisine': 'mexican', 'ingredients': 'vegetable oil corn tortillas salt black pepper ground beef'}\n",
      "{'id': 1525, 'cuisine': 'italian', 'ingredients': 'pepper dry white wine margarine cold water grated parmesan cheese salt dried tarragon leaves half & half all-purpose flour minced onion garlic'}\n",
      "{'id': 9669, 'cuisine': 'mexican', 'ingredients': 'pie crust ground black pepper cayenne pepper black beans vegetable oil onions shredded cheddar cheese salsa green bell pepper chili powder red bell pepper'}\n",
      "{'id': 36103, 'cuisine': 'indian', 'ingredients': 'red lentils garam masala salt peeled tomatoes ginger onions tumeric vegetable oil hot water honey garlic'}\n",
      "\n",
      "{'id': 38245, 'cuisine': 'italian', 'ingredients': 'pepper chicken breasts dried tarragon leaves cooking spray oil capers olive oil kalamata pizza crust dry white wine'}\n",
      "{'id': 26591, 'cuisine': 'indian', 'ingredients': 'golden brown sugar salt fresh lime juice granny smith apples peeled fresh ginger ground cardamom serrano chile quinces ground coriander medjool date water apple cider vinegar cinnamon sticks'}\n",
      "{'id': 36842, 'cuisine': 'italian', 'ingredients': 'fresh oregano leaves ground black pepper onions tomato paste olive oil diced tomatoes kosher salt large garlic cloves spaghetti fresh rosemary parmesan cheese sliced mushrooms'}\n",
      "{'id': 25503, 'cuisine': 'italian', 'ingredients': 'baby spinach cooked shrimp Alfredo sauce vegetable broth pesto sauce paprika ravioli cheese'}\n",
      "{'id': 39209, 'cuisine': 'southern_us', 'ingredients': 'baking powder beets sugar salt buttermilk unsalted butter all-purpose flour'}\n",
      "{'id': 2216, 'cuisine': 'mexican', 'ingredients': 'jalapeno chilies onions tomatoes garlic cilantro monterey jack chorizo tequila'}\n",
      "{'id': 45143, 'cuisine': 'indian', 'ingredients': 'chili powder onions ground cumin cooked rice garlic ground turmeric tomatoes ginger coriander olive oil ground coriander large shrimp'}\n",
      "{'id': 18901, 'cuisine': 'indian', 'ingredients': 'fresh curry leaves garlic onions black peppercorns vegetable oil cayenne pepper tomato paste water salt ground turmeric stew meat ginger ground coriander'}\n",
      "{'id': 24845, 'cuisine': 'southern_us', 'ingredients': 'buttermilk unsalted butter self rising flour'}\n",
      "{'id': 19888, 'cuisine': 'southern_us', 'ingredients': 'pepper sugar bacon water beans salt'}\n"
     ]
    }
   ],
   "source": [
    "print_some_data_samples(train_filepath)\n",
    "print()\n",
    "print_some_data_samples(test_filepath)"
   ]
  },
  {
   "cell_type": "code",
   "execution_count": 6,
   "id": "absolute-artwork",
   "metadata": {},
   "outputs": [],
   "source": [
    "def print_class_distribution(filepath):\n",
    "    count_italian = 0\n",
    "    count_mexican = 0\n",
    "    count_southern_us = 0\n",
    "    count_indian = 0\n",
    "    count_chinese = 0\n",
    "\n",
    "    with open(filepath, 'rb') as f:\n",
    "        data = pickle.load(f)\n",
    "        for item in data:\n",
    "            cuisine_type = item['cuisine']\n",
    "            if cuisine_type == 'italian':\n",
    "                count_italian +=1\n",
    "            elif cuisine_type == 'mexican':\n",
    "                count_mexican +=1\n",
    "            elif cuisine_type == 'southern_us':\n",
    "                count_southern_us +=1\n",
    "            elif cuisine_type == 'indian':\n",
    "                count_indian +=1\n",
    "            elif cuisine_type == 'chinese':\n",
    "                count_chinese +=1\n",
    "            else:\n",
    "                print(cuisine_type)\n",
    "\n",
    "    print(count_italian, count_mexican, count_southern_us, count_indian, count_chinese)\n",
    "    plt.bar(['italian', 'mexican', 'southern us', 'indian', 'chinese'], [count_italian, count_mexican, count_southern_us, count_indian, count_chinese])\n",
    "    plt.show()"
   ]
  },
  {
   "cell_type": "code",
   "execution_count": 7,
   "id": "bronze-israel",
   "metadata": {},
   "outputs": [
    {
     "name": "stdout",
     "output_type": "stream",
     "text": [
      "6238 5179 3448 2415 2137\n"
     ]
    },
    {
     "data": {
      "image/png": "[encoded data removed]",
      "text/plain": [
       "<Figure size 432x288 with 1 Axes>"
      ]
     },
     "metadata": {
      "needs_background": "light"
     },
     "output_type": "display_data"
    },
    {
     "name": "stdout",
     "output_type": "stream",
     "text": [
      "\n",
      "1600 1259 872 588 536\n"
     ]
    },
    {
     "data": {
      "image/png": "[encoded data removed]",
      "text/plain": [
       "<Figure size 432x288 with 1 Axes>"
      ]
     },
     "metadata": {
      "needs_background": "light"
     },
     "output_type": "display_data"
    }
   ],
   "source": [
    "print_class_distribution(train_filepath)\n",
    "print()\n",
    "print_class_distribution(test_filepath)"
   ]
  },
  {
   "cell_type": "code",
   "execution_count": 8,
   "id": "killing-candidate",
   "metadata": {},
   "outputs": [],
   "source": [
    "def plot_histograms_ingredients_word_counts(filepath):\n",
    "    ingredients_word_counts = []\n",
    "    with open(filepath, 'rb') as f:\n",
    "        data = pickle.load(f)\n",
    "        for item in data:\n",
    "            ingredients = item['ingredients'].split(' ')\n",
    "            ingredients_word_counts.append(len(ingredients))\n",
    "#     print(ingredients_word_counts)\n",
    "    print('Median list of ingredients (in terms of word count):', np.median(np.array(ingredients_word_counts)))\n",
    "    print('Average list of ingredients (in terms of word count):', np.mean(np.array(ingredients_word_counts)))\n",
    "    print('Shortest list of ingredients (in terms of word count):', min(ingredients_word_counts))\n",
    "    print('Longest list of ingredients (in terms of word count):', max(ingredients_word_counts))\n",
    "    plt.figure(figsize=(15, 6), dpi=80)\n",
    "    plt.hist(ingredients_word_counts, bins=25)\n",
    "    plt.show()"
   ]
  },
  {
   "cell_type": "code",
   "execution_count": 9,
   "id": "sunset-marks",
   "metadata": {},
   "outputs": [
    {
     "name": "stdout",
     "output_type": "stream",
     "text": [
      "Median list of ingredients (in terms of word count): 20.0\n",
      "Average list of ingredients (in terms of word count): 20.426378946284185\n",
      "Shortest list of ingredients (in terms of word count): 1\n",
      "Longest list of ingredients (in terms of word count): 136\n"
     ]
    },
    {
     "data": {
      "image/png": "[encoded data removed]",
      "text/plain": [
       "<Figure size 1200x480 with 1 Axes>"
      ]
     },
     "metadata": {
      "needs_background": "light"
     },
     "output_type": "display_data"
    },
    {
     "name": "stdout",
     "output_type": "stream",
     "text": [
      "\n",
      "Median list of ingredients (in terms of word count): 19.0\n",
      "Average list of ingredients (in terms of word count): 20.510607621009267\n",
      "Shortest list of ingredients (in terms of word count): 2\n",
      "Longest list of ingredients (in terms of word count): 102\n"
     ]
    },
    {
     "data": {
      "image/png": "[encoded data removed]",
      "text/plain": [
       "<Figure size 1200x480 with 1 Axes>"
      ]
     },
     "metadata": {
      "needs_background": "light"
     },
     "output_type": "display_data"
    }
   ],
   "source": [
    "plot_histograms_ingredients_word_counts(train_filepath)\n",
    "print()\n",
    "plot_histograms_ingredients_word_counts(test_filepath)"
   ]
  },
  {
   "cell_type": "code",
   "execution_count": null,
   "id": "explicit-comedy",
   "metadata": {},
   "outputs": [],
   "source": []
  },
  {
   "cell_type": "code",
   "execution_count": null,
   "id": "instant-texas",
   "metadata": {},
   "outputs": [],
   "source": []
  }
 ],
 "metadata": {
  "kernelspec": {
   "display_name": "Python (nicolas)",
   "language": "python",
   "name": "nicolas"
  },
  "language_info": {
   "codemirror_mode": {
    "name": "ipython",
    "version": 3
   },
   "file_extension": ".py",
   "mimetype": "text/x-python",
   "name": "python",
   "nbconvert_exporter": "python",
   "pygments_lexer": "ipython3",
   "version": "3.7.7"
  }
 },
 "nbformat": 4,
 "nbformat_minor": 5
}
